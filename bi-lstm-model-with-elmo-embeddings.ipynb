{
 "cells": [
  {
   "cell_type": "code",
   "execution_count": 1,
   "metadata": {
    "_uuid": "601486e856e71ada0c4ef32288217fb9e9278f37",
    "execution": {
     "iopub.execute_input": "2022-04-10T16:36:34.693493Z",
     "iopub.status.busy": "2022-04-10T16:36:34.693187Z",
     "iopub.status.idle": "2022-04-10T16:36:37.303997Z",
     "shell.execute_reply": "2022-04-10T16:36:37.303343Z",
     "shell.execute_reply.started": "2022-04-10T16:36:34.693444Z"
    },
    "executionInfo": {
     "elapsed": 7672,
     "status": "ok",
     "timestamp": 1521579756308,
     "user": {
      "displayName": "Patrick DeKelly",
      "photoUrl": "https://lh3.googleusercontent.com/a/default-user=s128",
      "userId": "113168316542890578910"
     },
     "user_tz": 240
    },
    "id": "rXnvv7SiE_g1",
    "outputId": "ee18b3cb-d134-465d-fff7-f48e5b97b7c9"
   },
   "outputs": [
    {
     "name": "stderr",
     "output_type": "stream",
     "text": [
      "Using TensorFlow backend.\n",
      "WARNING: Logging before flag parsing goes to stderr.\n",
      "W0410 16:36:36.696017 140595205010816 __init__.py:56] Some hub symbols are not available because TensorFlow version is less than 1.14\n"
     ]
    }
   ],
   "source": [
    "# Import necessary libraries\n",
    "\n",
    "import numpy as np\n",
    "import pandas as pd\n",
    "\n",
    "from sklearn.preprocessing import LabelEncoder\n",
    "from sklearn.pipeline import FeatureUnion\n",
    "from sklearn.feature_extraction.text import CountVectorizer, TfidfVectorizer\n",
    "from keras.callbacks import Callback\n",
    "import tensorflow_hub as hub\n",
    "import tensorflow as tf\n",
    "import re\n",
    "\n",
    "from keras import backend as K\n",
    "import keras.layers as layers\n",
    "from keras.preprocessing.text import Tokenizer\n",
    "from keras.preprocessing.sequence import pad_sequences\n",
    "from keras.layers import Input, Dropout, Dense, concatenate, Embedding, Flatten, Activation, SpatialDropout1D\n",
    "from keras.layers import Bidirectional, GRU, GlobalAveragePooling1D, GlobalMaxPooling1D\n",
    "from keras.optimizers import Adam\n",
    "from keras.models import Model\n",
    "from keras.utils import np_utils\n",
    "from keras.engine import Layer\n",
    "from keras import initializers, regularizers, constraints\n",
    "from keras.layers import *\n",
    "\n",
    "from keras.preprocessing import sequence\n",
    "from keras.models import Sequential\n",
    "from keras.models import load_model\n",
    "from keras.layers import LSTM, CuDNNGRU, CuDNNLSTM, Add, Reshape\n",
    "from keras.layers import MaxPooling1D, Conv1D, MaxPooling1D, Conv2D, MaxPooling2D\n",
    "from keras.callbacks import EarlyStopping, ModelCheckpoint, ReduceLROnPlateau\n",
    "from nltk.tokenize import sent_tokenize, word_tokenize\n",
    "\n",
    "import warnings\n",
    "warnings.filterwarnings('ignore')\n",
    "import os\n",
    "#os.environ['OMP_NUM_THREADS'] = '4'\n",
    "\n",
    "import re\n",
    "import math\n",
    "# set seed\n",
    "np.random.seed(123)"
   ]
  },
  {
   "cell_type": "markdown",
   "metadata": {
    "_uuid": "c5b7bb9e57a214363a0cfbf8a7c2a40c5e42f0ee",
    "id": "R5K8PW8fE_hL"
   },
   "source": [
    "# Read the SNLI dataset"
   ]
  },
  {
   "cell_type": "code",
   "execution_count": 2,
   "metadata": {
    "_uuid": "aaf05217f288d24f3be3512da16c888beae982ac",
    "execution": {
     "iopub.execute_input": "2022-04-10T16:36:41.847315Z",
     "iopub.status.busy": "2022-04-10T16:36:41.847023Z",
     "iopub.status.idle": "2022-04-10T16:36:51.633350Z",
     "shell.execute_reply": "2022-04-10T16:36:51.632671Z",
     "shell.execute_reply.started": "2022-04-10T16:36:41.847253Z"
    },
    "id": "RcMRi-w2E_hN"
   },
   "outputs": [],
   "source": [
    "train = pd.read_csv('../input/stanford-natural-language-inference-corpus/snli_1.0_train.csv')\n",
    "test = pd.read_csv('../input/stanford-natural-language-inference-corpus/snli_1.0_test.csv')\n",
    "valid = pd.read_csv('../input/stanford-natural-language-inference-corpus/snli_1.0_dev.csv')"
   ]
  },
  {
   "cell_type": "code",
   "execution_count": 3,
   "metadata": {
    "_uuid": "1dbc493724861e5bd8d97d820d6247a5b9e1accf",
    "execution": {
     "iopub.execute_input": "2022-04-10T16:36:51.634880Z",
     "iopub.status.busy": "2022-04-10T16:36:51.634586Z",
     "iopub.status.idle": "2022-04-10T16:36:51.694599Z",
     "shell.execute_reply": "2022-04-10T16:36:51.693829Z",
     "shell.execute_reply.started": "2022-04-10T16:36:51.634832Z"
    },
    "executionInfo": {
     "elapsed": 328,
     "status": "ok",
     "timestamp": 1521579779971,
     "user": {
      "displayName": "Patrick DeKelly",
      "photoUrl": "https://lh3.googleusercontent.com/a/default-user=s128",
      "userId": "113168316542890578910"
     },
     "user_tz": 240
    },
    "id": "XFUwGfuDE_hS",
    "outputId": "51b22eea-7cbd-42af-eb94-45f790911ead"
   },
   "outputs": [
    {
     "name": "stdout",
     "output_type": "stream",
     "text": [
      "Training on 550152 examples\n",
      "Validating on 10000 examples\n",
      "Testing on 10000 examples\n"
     ]
    },
    {
     "data": {
      "text/html": [
       "<div>\n",
       "<style scoped>\n",
       "    .dataframe tbody tr th:only-of-type {\n",
       "        vertical-align: middle;\n",
       "    }\n",
       "\n",
       "    .dataframe tbody tr th {\n",
       "        vertical-align: top;\n",
       "    }\n",
       "\n",
       "    .dataframe thead th {\n",
       "        text-align: right;\n",
       "    }\n",
       "</style>\n",
       "<table border=\"1\" class=\"dataframe\">\n",
       "  <thead>\n",
       "    <tr style=\"text-align: right;\">\n",
       "      <th></th>\n",
       "      <th>gold_label</th>\n",
       "      <th>sentence1_binary_parse</th>\n",
       "      <th>sentence2_binary_parse</th>\n",
       "      <th>sentence1_parse</th>\n",
       "      <th>sentence2_parse</th>\n",
       "      <th>sentence1</th>\n",
       "      <th>sentence2</th>\n",
       "      <th>captionID</th>\n",
       "      <th>pairID</th>\n",
       "      <th>label1</th>\n",
       "      <th>label2</th>\n",
       "      <th>label3</th>\n",
       "      <th>label4</th>\n",
       "      <th>label5</th>\n",
       "    </tr>\n",
       "  </thead>\n",
       "  <tbody>\n",
       "    <tr>\n",
       "      <th>0</th>\n",
       "      <td>neutral</td>\n",
       "      <td>( ( ( A person ) ( on ( a horse ) ) ) ( ( jump...</td>\n",
       "      <td>( ( A person ) ( ( is ( ( training ( his horse...</td>\n",
       "      <td>(ROOT (S (NP (NP (DT A) (NN person)) (PP (IN o...</td>\n",
       "      <td>(ROOT (S (NP (DT A) (NN person)) (VP (VBZ is) ...</td>\n",
       "      <td>A person on a horse jumps over a broken down a...</td>\n",
       "      <td>A person is training his horse for a competition.</td>\n",
       "      <td>3416050480.jpg#4</td>\n",
       "      <td>3416050480.jpg#4r1n</td>\n",
       "      <td>neutral</td>\n",
       "      <td>NaN</td>\n",
       "      <td>NaN</td>\n",
       "      <td>NaN</td>\n",
       "      <td>NaN</td>\n",
       "    </tr>\n",
       "    <tr>\n",
       "      <th>1</th>\n",
       "      <td>contradiction</td>\n",
       "      <td>( ( ( A person ) ( on ( a horse ) ) ) ( ( jump...</td>\n",
       "      <td>( ( A person ) ( ( ( ( is ( at ( a diner ) ) )...</td>\n",
       "      <td>(ROOT (S (NP (NP (DT A) (NN person)) (PP (IN o...</td>\n",
       "      <td>(ROOT (S (NP (DT A) (NN person)) (VP (VBZ is) ...</td>\n",
       "      <td>A person on a horse jumps over a broken down a...</td>\n",
       "      <td>A person is at a diner, ordering an omelette.</td>\n",
       "      <td>3416050480.jpg#4</td>\n",
       "      <td>3416050480.jpg#4r1c</td>\n",
       "      <td>contradiction</td>\n",
       "      <td>NaN</td>\n",
       "      <td>NaN</td>\n",
       "      <td>NaN</td>\n",
       "      <td>NaN</td>\n",
       "    </tr>\n",
       "    <tr>\n",
       "      <th>2</th>\n",
       "      <td>entailment</td>\n",
       "      <td>( ( ( A person ) ( on ( a horse ) ) ) ( ( jump...</td>\n",
       "      <td>( ( A person ) ( ( ( ( is outdoors ) , ) ( on ...</td>\n",
       "      <td>(ROOT (S (NP (NP (DT A) (NN person)) (PP (IN o...</td>\n",
       "      <td>(ROOT (S (NP (DT A) (NN person)) (VP (VBZ is) ...</td>\n",
       "      <td>A person on a horse jumps over a broken down a...</td>\n",
       "      <td>A person is outdoors, on a horse.</td>\n",
       "      <td>3416050480.jpg#4</td>\n",
       "      <td>3416050480.jpg#4r1e</td>\n",
       "      <td>entailment</td>\n",
       "      <td>NaN</td>\n",
       "      <td>NaN</td>\n",
       "      <td>NaN</td>\n",
       "      <td>NaN</td>\n",
       "    </tr>\n",
       "    <tr>\n",
       "      <th>3</th>\n",
       "      <td>neutral</td>\n",
       "      <td>( Children ( ( ( smiling and ) waving ) ( at c...</td>\n",
       "      <td>( They ( are ( smiling ( at ( their parents ) ...</td>\n",
       "      <td>(ROOT (NP (S (NP (NNP Children)) (VP (VBG smil...</td>\n",
       "      <td>(ROOT (S (NP (PRP They)) (VP (VBP are) (VP (VB...</td>\n",
       "      <td>Children smiling and waving at camera</td>\n",
       "      <td>They are smiling at their parents</td>\n",
       "      <td>2267923837.jpg#2</td>\n",
       "      <td>2267923837.jpg#2r1n</td>\n",
       "      <td>neutral</td>\n",
       "      <td>NaN</td>\n",
       "      <td>NaN</td>\n",
       "      <td>NaN</td>\n",
       "      <td>NaN</td>\n",
       "    </tr>\n",
       "    <tr>\n",
       "      <th>4</th>\n",
       "      <td>entailment</td>\n",
       "      <td>( Children ( ( ( smiling and ) waving ) ( at c...</td>\n",
       "      <td>( There ( ( are children ) present ) )</td>\n",
       "      <td>(ROOT (NP (S (NP (NNP Children)) (VP (VBG smil...</td>\n",
       "      <td>(ROOT (S (NP (EX There)) (VP (VBP are) (NP (NN...</td>\n",
       "      <td>Children smiling and waving at camera</td>\n",
       "      <td>There are children present</td>\n",
       "      <td>2267923837.jpg#2</td>\n",
       "      <td>2267923837.jpg#2r1e</td>\n",
       "      <td>entailment</td>\n",
       "      <td>NaN</td>\n",
       "      <td>NaN</td>\n",
       "      <td>NaN</td>\n",
       "      <td>NaN</td>\n",
       "    </tr>\n",
       "    <tr>\n",
       "      <th>5</th>\n",
       "      <td>contradiction</td>\n",
       "      <td>( Children ( ( ( smiling and ) waving ) ( at c...</td>\n",
       "      <td>( ( The kids ) ( are frowning ) )</td>\n",
       "      <td>(ROOT (NP (S (NP (NNP Children)) (VP (VBG smil...</td>\n",
       "      <td>(ROOT (S (NP (DT The) (NNS kids)) (VP (VBP are...</td>\n",
       "      <td>Children smiling and waving at camera</td>\n",
       "      <td>The kids are frowning</td>\n",
       "      <td>2267923837.jpg#2</td>\n",
       "      <td>2267923837.jpg#2r1c</td>\n",
       "      <td>contradiction</td>\n",
       "      <td>NaN</td>\n",
       "      <td>NaN</td>\n",
       "      <td>NaN</td>\n",
       "      <td>NaN</td>\n",
       "    </tr>\n",
       "    <tr>\n",
       "      <th>6</th>\n",
       "      <td>contradiction</td>\n",
       "      <td>( ( A boy ) ( ( is ( ( jumping ( on skateboard...</td>\n",
       "      <td>( ( The boy ) ( ( ( skates down ) ( the sidewa...</td>\n",
       "      <td>(ROOT (S (NP (DT A) (NN boy)) (VP (VBZ is) (VP...</td>\n",
       "      <td>(ROOT (S (NP (DT The) (NN boy)) (VP (VBZ skate...</td>\n",
       "      <td>A boy is jumping on skateboard in the middle o...</td>\n",
       "      <td>The boy skates down the sidewalk.</td>\n",
       "      <td>3691670743.jpg#0</td>\n",
       "      <td>3691670743.jpg#0r1c</td>\n",
       "      <td>contradiction</td>\n",
       "      <td>NaN</td>\n",
       "      <td>NaN</td>\n",
       "      <td>NaN</td>\n",
       "      <td>NaN</td>\n",
       "    </tr>\n",
       "    <tr>\n",
       "      <th>7</th>\n",
       "      <td>entailment</td>\n",
       "      <td>( ( A boy ) ( ( is ( ( jumping ( on skateboard...</td>\n",
       "      <td>( ( The boy ) ( ( does ( a ( skateboarding tri...</td>\n",
       "      <td>(ROOT (S (NP (DT A) (NN boy)) (VP (VBZ is) (VP...</td>\n",
       "      <td>(ROOT (S (NP (DT The) (NN boy)) (VP (VBZ does)...</td>\n",
       "      <td>A boy is jumping on skateboard in the middle o...</td>\n",
       "      <td>The boy does a skateboarding trick.</td>\n",
       "      <td>3691670743.jpg#0</td>\n",
       "      <td>3691670743.jpg#0r1e</td>\n",
       "      <td>entailment</td>\n",
       "      <td>NaN</td>\n",
       "      <td>NaN</td>\n",
       "      <td>NaN</td>\n",
       "      <td>NaN</td>\n",
       "    </tr>\n",
       "    <tr>\n",
       "      <th>8</th>\n",
       "      <td>neutral</td>\n",
       "      <td>( ( A boy ) ( ( is ( ( jumping ( on skateboard...</td>\n",
       "      <td>( ( The boy ) ( ( is ( wearing ( safety equipm...</td>\n",
       "      <td>(ROOT (S (NP (DT A) (NN boy)) (VP (VBZ is) (VP...</td>\n",
       "      <td>(ROOT (S (NP (DT The) (NN boy)) (VP (VBZ is) (...</td>\n",
       "      <td>A boy is jumping on skateboard in the middle o...</td>\n",
       "      <td>The boy is wearing safety equipment.</td>\n",
       "      <td>3691670743.jpg#0</td>\n",
       "      <td>3691670743.jpg#0r1n</td>\n",
       "      <td>neutral</td>\n",
       "      <td>NaN</td>\n",
       "      <td>NaN</td>\n",
       "      <td>NaN</td>\n",
       "      <td>NaN</td>\n",
       "    </tr>\n",
       "    <tr>\n",
       "      <th>9</th>\n",
       "      <td>neutral</td>\n",
       "      <td>( ( An ( older man ) ) ( ( ( sits ( with ( ( h...</td>\n",
       "      <td>( ( An ( older man ) ) ( ( ( drinks ( his juic...</td>\n",
       "      <td>(ROOT (S (NP (DT An) (JJR older) (NN man)) (VP...</td>\n",
       "      <td>(ROOT (S (NP (DT An) (JJR older) (NN man)) (VP...</td>\n",
       "      <td>An older man sits with his orange juice at a s...</td>\n",
       "      <td>An older man drinks his juice as he waits for ...</td>\n",
       "      <td>4804607632.jpg#0</td>\n",
       "      <td>4804607632.jpg#0r1n</td>\n",
       "      <td>neutral</td>\n",
       "      <td>NaN</td>\n",
       "      <td>NaN</td>\n",
       "      <td>NaN</td>\n",
       "      <td>NaN</td>\n",
       "    </tr>\n",
       "  </tbody>\n",
       "</table>\n",
       "</div>"
      ],
      "text/plain": [
       "      gold_label  ...   label5\n",
       "0        neutral  ...      NaN\n",
       "1  contradiction  ...      NaN\n",
       "2     entailment  ...      NaN\n",
       "3        neutral  ...      NaN\n",
       "4     entailment  ...      NaN\n",
       "5  contradiction  ...      NaN\n",
       "6  contradiction  ...      NaN\n",
       "7     entailment  ...      NaN\n",
       "8        neutral  ...      NaN\n",
       "9        neutral  ...      NaN\n",
       "\n",
       "[10 rows x 14 columns]"
      ]
     },
     "execution_count": 3,
     "metadata": {},
     "output_type": "execute_result"
    }
   ],
   "source": [
    "print(\"Training on\", train.shape[0], \"examples\")\n",
    "print(\"Validating on\", test.shape[0], \"examples\")\n",
    "print(\"Testing on\", valid.shape[0], \"examples\")\n",
    "#check out the first 10 training records\n",
    "train[:10]"
   ]
  },
  {
   "cell_type": "code",
   "execution_count": 4,
   "metadata": {
    "_uuid": "fe343f1f4ceeb57b99c0c8329f1d12c4b5546c48",
    "execution": {
     "iopub.execute_input": "2022-04-10T16:36:51.696193Z",
     "iopub.status.busy": "2022-04-10T16:36:51.695931Z",
     "iopub.status.idle": "2022-04-10T16:36:52.311834Z",
     "shell.execute_reply": "2022-04-10T16:36:52.311045Z",
     "shell.execute_reply.started": "2022-04-10T16:36:51.696138Z"
    }
   },
   "outputs": [
    {
     "data": {
      "text/plain": [
       "gold_label                     0\n",
       "sentence1_binary_parse         0\n",
       "sentence2_binary_parse         6\n",
       "sentence1_parse                0\n",
       "sentence2_parse                0\n",
       "sentence1                      0\n",
       "sentence2                      6\n",
       "captionID                      0\n",
       "pairID                         0\n",
       "label1                         0\n",
       "label2                    510782\n",
       "label3                    510757\n",
       "label4                    510769\n",
       "label5                    513238\n",
       "dtype: int64"
      ]
     },
     "execution_count": 4,
     "metadata": {},
     "output_type": "execute_result"
    }
   ],
   "source": [
    "#check out missing values\n",
    "train.isnull().sum()"
   ]
  },
  {
   "cell_type": "code",
   "execution_count": 5,
   "metadata": {
    "_uuid": "0055500fdcf1ea06fb00c746f54b68c0eecfa11a",
    "execution": {
     "iopub.execute_input": "2022-04-10T16:36:52.313991Z",
     "iopub.status.busy": "2022-04-10T16:36:52.313553Z",
     "iopub.status.idle": "2022-04-10T16:36:52.731751Z",
     "shell.execute_reply": "2022-04-10T16:36:52.731085Z",
     "shell.execute_reply.started": "2022-04-10T16:36:52.313808Z"
    }
   },
   "outputs": [],
   "source": [
    "#handle missing values\n",
    "\n",
    "'''\n",
    "There are a few NA values to drop in sentence2 and the gold_label has a few \"-\". \n",
    "The \"-\" values are when the 5 votes from the turk participants came out tied, \n",
    "usually caused by very confusingly worded rows, so it is best to remove these as well.\n",
    "\n",
    "'''\n",
    "\n",
    "train = train.dropna(subset = ['sentence2'])\n",
    "train = train[train[\"gold_label\"] != \"-\"]\n",
    "test = test[test[\"gold_label\"] != \"-\"]\n",
    "valid = valid[valid[\"gold_label\"] != \"-\"]"
   ]
  },
  {
   "cell_type": "code",
   "execution_count": 6,
   "metadata": {
    "_uuid": "6e66c2466abd1f183d2bd0f1653a49e02a0873f1",
    "execution": {
     "iopub.execute_input": "2022-04-10T16:36:52.733163Z",
     "iopub.status.busy": "2022-04-10T16:36:52.732907Z",
     "iopub.status.idle": "2022-04-10T16:36:54.248993Z",
     "shell.execute_reply": "2022-04-10T16:36:54.248300Z",
     "shell.execute_reply.started": "2022-04-10T16:36:52.733120Z"
    }
   },
   "outputs": [
    {
     "data": {
      "text/plain": [
       "gold_label                     3\n",
       "sentence1_binary_parse    150735\n",
       "sentence2_binary_parse    479206\n",
       "sentence1_parse           150735\n",
       "sentence2_parse           479206\n",
       "sentence1                 150735\n",
       "sentence2                 479340\n",
       "captionID                 151194\n",
       "pairID                    549361\n",
       "label1                         3\n",
       "label2                         3\n",
       "label3                         3\n",
       "label4                         3\n",
       "label5                         3\n",
       "dtype: int64"
      ]
     },
     "execution_count": 6,
     "metadata": {},
     "output_type": "execute_result"
    }
   ],
   "source": [
    "#check out unique values in each feature\n",
    "train.nunique()"
   ]
  },
  {
   "cell_type": "markdown",
   "metadata": {
    "_uuid": "a32594bc84280919fd42fa527a372bfdf14ec28d",
    "id": "hMtzIjePE_iN"
   },
   "source": [
    "# Preprocessing the data\n",
    "\n"
   ]
  },
  {
   "cell_type": "code",
   "execution_count": 7,
   "metadata": {
    "_uuid": "f3704321a81a5853f1ae67c3760704a4cc8b7e07",
    "execution": {
     "iopub.execute_input": "2022-04-10T16:36:54.250436Z",
     "iopub.status.busy": "2022-04-10T16:36:54.250156Z",
     "iopub.status.idle": "2022-04-10T16:36:54.443092Z",
     "shell.execute_reply": "2022-04-10T16:36:54.442366Z",
     "shell.execute_reply.started": "2022-04-10T16:36:54.250390Z"
    },
    "executionInfo": {
     "elapsed": 759,
     "status": "ok",
     "timestamp": 1521400360111,
     "user": {
      "displayName": "Patrick DeKelly",
      "photoUrl": "https://lh3.googleusercontent.com/a/default-user=s128",
      "userId": "113168316542890578910"
     },
     "user_tz": 240
    },
    "id": "jsM1gYiLp77U",
    "outputId": "e8f3d2a4-514e-49bb-e0ef-c4edfc784c1c"
   },
   "outputs": [
    {
     "name": "stdout",
     "output_type": "stream",
     "text": [
      "CPU times: user 186 ms, sys: 2.06 ms, total: 188 ms\n",
      "Wall time: 186 ms\n"
     ]
    }
   ],
   "source": [
    "%%time\n",
    "\n",
    "def get_rnn_data(df):\n",
    "    x = {\n",
    "        'sentence1': df[\"sentence1\"],\n",
    "        'sentence2': df[\"sentence2\"],\n",
    "        }\n",
    "    return x\n",
    "\n",
    "le = LabelEncoder()\n",
    "\n",
    "X_train = get_rnn_data(train)\n",
    "Y_train = np_utils.to_categorical(le.fit_transform(train[\"gold_label\"].values)).astype(\"int64\")\n",
    "\n",
    "X_valid = get_rnn_data(valid)\n",
    "Y_valid = np_utils.to_categorical(le.fit_transform(valid[\"gold_label\"].values)).astype(\"int64\")\n",
    "\n",
    "X_test = get_rnn_data(test)\n",
    "Y_test = np_utils.to_categorical(le.fit_transform(test[\"gold_label\"].values)).astype(\"int64\")"
   ]
  },
  {
   "cell_type": "markdown",
   "metadata": {
    "_uuid": "f49444a5ec62ece1fa98f6368e13b1e99de17a53",
    "id": "QZHmuVo9E_jd"
   },
   "source": [
    "# Create the NLI model based on Custom Layers:"
   ]
  },
  {
   "cell_type": "markdown",
   "metadata": {},
   "source": [
    "# Bidirectional LSTM Model with ELMO Embedding"
   ]
  },
  {
   "cell_type": "code",
   "execution_count": 8,
   "metadata": {
    "_uuid": "30ed061c2e98303a2055fd93496e381a06e5eb13",
    "execution": {
     "iopub.execute_input": "2022-04-10T16:36:54.444715Z",
     "iopub.status.busy": "2022-04-10T16:36:54.444265Z",
     "iopub.status.idle": "2022-04-10T16:36:54.455675Z",
     "shell.execute_reply": "2022-04-10T16:36:54.455004Z",
     "shell.execute_reply.started": "2022-04-10T16:36:54.444657Z"
    }
   },
   "outputs": [],
   "source": [
    "class ElmoEmbeddingLayer(Layer):\n",
    "    def __init__(self, **kwargs):\n",
    "        self.dimensions = 1024\n",
    "        self.trainable=True\n",
    "        super(ElmoEmbeddingLayer, self).__init__(**kwargs)\n",
    "\n",
    "    def build(self, input_shape):\n",
    "        self.elmo = hub.Module('https://tfhub.dev/google/elmo/2', trainable=self.trainable,\n",
    "                               name=\"{}_module\".format(self.name))\n",
    "\n",
    "        self.trainable_weights += K.tf.trainable_variables(scope=\"^{}_module/.*\".format(self.name))\n",
    "        super(ElmoEmbeddingLayer, self).build(input_shape)\n",
    "\n",
    "    def call(self, x, mask=None):\n",
    "        result = self.elmo(K.squeeze(K.cast(x, tf.string), axis=1),\n",
    "                      as_dict=True,\n",
    "                      signature='default',\n",
    "                      )['default']\n",
    "        return result\n",
    "\n",
    "    def compute_mask(self, inputs, mask=None):\n",
    "        return K.not_equal(inputs, '--PAD--')\n",
    "\n",
    "    def compute_output_shape(self, input_shape):\n",
    "        return (input_shape[0], self.dimensions)\n",
    "    \n",
    "#     def get_config(self):\n",
    "#         config = {'output_dim': self.output_dim}\n",
    "    \n",
    "class NonMasking(Layer):   \n",
    "    def __init__(self, **kwargs):   \n",
    "        self.supports_masking = True  \n",
    "        super(NonMasking, self).__init__(**kwargs)   \n",
    "  \n",
    "    def build(self, input_shape):   \n",
    "        input_shape = input_shape   \n",
    "  \n",
    "    def compute_mask(self, input, input_mask=None):   \n",
    "        # do not pass the mask to the next layers   \n",
    "        return None   \n",
    "  \n",
    "    def call(self, x, mask=None):   \n",
    "        return x   \n",
    "  \n",
    "    def get_output_shape_for(self, input_shape):   \n",
    "        return input_shape\n",
    "    \n",
    "#     def get_config(self):\n",
    "#         config = {'output_dim': self.output_dim}\n",
    "        \n",
    "custom_ob={'ElmoEmbeddingLayer': ElmoEmbeddingLayer, 'NonMasking': NonMasking}"
   ]
  },
  {
   "cell_type": "code",
   "execution_count": 9,
   "metadata": {
    "_uuid": "336bfaf64cc753bc2452108656679ae6b1b64a16",
    "execution": {
     "iopub.execute_input": "2022-04-10T16:36:54.458869Z",
     "iopub.status.busy": "2022-04-10T16:36:54.458636Z",
     "iopub.status.idle": "2022-04-10T16:37:23.165036Z",
     "shell.execute_reply": "2022-04-10T16:37:23.164381Z",
     "shell.execute_reply.started": "2022-04-10T16:36:54.458806Z"
    }
   },
   "outputs": [
    {
     "name": "stdout",
     "output_type": "stream",
     "text": [
      "WARNING:tensorflow:From /opt/conda/lib/python3.6/site-packages/tensorflow/python/ops/control_flow_ops.py:3632: colocate_with (from tensorflow.python.framework.ops) is deprecated and will be removed in a future version.\n",
      "Instructions for updating:\n",
      "Colocations handled automatically by placer.\n"
     ]
    },
    {
     "name": "stderr",
     "output_type": "stream",
     "text": [
      "W0410 16:37:16.560651 140595205010816 deprecation.py:323] From /opt/conda/lib/python3.6/site-packages/tensorflow/python/ops/control_flow_ops.py:3632: colocate_with (from tensorflow.python.framework.ops) is deprecated and will be removed in a future version.\n",
      "Instructions for updating:\n",
      "Colocations handled automatically by placer.\n"
     ]
    },
    {
     "name": "stdout",
     "output_type": "stream",
     "text": [
      "INFO:tensorflow:Saver not created because there are no variables in the graph to restore\n"
     ]
    },
    {
     "name": "stderr",
     "output_type": "stream",
     "text": [
      "I0410 16:37:17.243333 140595205010816 saver.py:1483] Saver not created because there are no variables in the graph to restore\n"
     ]
    },
    {
     "name": "stdout",
     "output_type": "stream",
     "text": [
      "INFO:tensorflow:Saver not created because there are no variables in the graph to restore\n"
     ]
    },
    {
     "name": "stderr",
     "output_type": "stream",
     "text": [
      "I0410 16:37:18.595419 140595205010816 saver.py:1483] Saver not created because there are no variables in the graph to restore\n"
     ]
    },
    {
     "name": "stdout",
     "output_type": "stream",
     "text": [
      "WARNING:tensorflow:From /opt/conda/lib/python3.6/site-packages/keras/backend/tensorflow_backend.py:3445: calling dropout (from tensorflow.python.ops.nn_ops) with keep_prob is deprecated and will be removed in a future version.\n",
      "Instructions for updating:\n",
      "Please use `rate` instead of `keep_prob`. Rate should be set to `rate = 1 - keep_prob`.\n"
     ]
    },
    {
     "name": "stderr",
     "output_type": "stream",
     "text": [
      "W0410 16:37:19.239344 140595205010816 deprecation.py:506] From /opt/conda/lib/python3.6/site-packages/keras/backend/tensorflow_backend.py:3445: calling dropout (from tensorflow.python.ops.nn_ops) with keep_prob is deprecated and will be removed in a future version.\n",
      "Instructions for updating:\n",
      "Please use `rate` instead of `keep_prob`. Rate should be set to `rate = 1 - keep_prob`.\n"
     ]
    },
    {
     "name": "stdout",
     "output_type": "stream",
     "text": [
      "__________________________________________________________________________________________________\n",
      "Layer (type)                    Output Shape         Param #     Connected to                     \n",
      "==================================================================================================\n",
      "sentence1 (InputLayer)          (None, 1)            0                                            \n",
      "__________________________________________________________________________________________________\n",
      "sentence2 (InputLayer)          (None, 1)            0                                            \n",
      "__________________________________________________________________________________________________\n",
      "elmo_embedding_layer_1 (ElmoEmb (None, 1024)         4           sentence1[0][0]                  \n",
      "__________________________________________________________________________________________________\n",
      "elmo_embedding_layer_2 (ElmoEmb (None, 1024)         4           sentence2[0][0]                  \n",
      "__________________________________________________________________________________________________\n",
      "concatenate_1 (Concatenate)     (None, 2048)         0           elmo_embedding_layer_1[0][0]     \n",
      "                                                                 elmo_embedding_layer_2[0][0]     \n",
      "__________________________________________________________________________________________________\n",
      "non_masking_1 (NonMasking)      (None, 2048)         0           concatenate_1[0][0]              \n",
      "__________________________________________________________________________________________________\n",
      "reshape_1 (Reshape)             (None, 1, 2048)      0           non_masking_1[0][0]              \n",
      "__________________________________________________________________________________________________\n",
      "bidirectional_1 (Bidirectional) (None, 1, 256)       2229248     reshape_1[0][0]                  \n",
      "__________________________________________________________________________________________________\n",
      "bidirectional_2 (Bidirectional) (None, 1, 256)       394240      bidirectional_1[0][0]            \n",
      "__________________________________________________________________________________________________\n",
      "bidirectional_3 (Bidirectional) (None, 1, 256)       394240      bidirectional_2[0][0]            \n",
      "__________________________________________________________________________________________________\n",
      "bidirectional_4 (Bidirectional) (None, 1, 256)       394240      bidirectional_3[0][0]            \n",
      "__________________________________________________________________________________________________\n",
      "bidirectional_5 (Bidirectional) (None, 1, 256)       394240      bidirectional_4[0][0]            \n",
      "__________________________________________________________________________________________________\n",
      "bidirectional_6 (Bidirectional) (None, 1, 256)       394240      bidirectional_5[0][0]            \n",
      "__________________________________________________________________________________________________\n",
      "global_average_pooling1d_1 (Glo (None, 256)          0           bidirectional_6[0][0]            \n",
      "__________________________________________________________________________________________________\n",
      "global_max_pooling1d_1 (GlobalM (None, 256)          0           bidirectional_6[0][0]            \n",
      "__________________________________________________________________________________________________\n",
      "concatenate_2 (Concatenate)     (None, 512)          0           global_average_pooling1d_1[0][0] \n",
      "                                                                 global_max_pooling1d_1[0][0]     \n",
      "__________________________________________________________________________________________________\n",
      "final_output (Dense)            (None, 3)            1539        concatenate_2[0][0]              \n",
      "==================================================================================================\n",
      "Total params: 4,201,995\n",
      "Trainable params: 4,201,995\n",
      "Non-trainable params: 0\n",
      "__________________________________________________________________________________________________\n"
     ]
    }
   ],
   "source": [
    "def get_model():\n",
    "    model = Sequential()\n",
    "    inp1 = Input(shape=(1,), dtype=\"string\", name=\"sentence1\")\n",
    "    inp2 = Input(shape=(1,), dtype=\"string\", name=\"sentence2\")\n",
    "    \n",
    "    def emb_layer(inp, col):\n",
    "        x = ElmoEmbeddingLayer()(inp)\n",
    "        return x\n",
    "\n",
    "    x = concatenate([\n",
    "                    emb_layer(inp1,\"sen_1\"),\n",
    "                    emb_layer(inp2,\"sen_2\"),\n",
    "                     ])\n",
    "    \n",
    "    x = NonMasking()(x)\n",
    "    x = Reshape((1, 1024*2), input_shape=(1024*2,))(x)\n",
    "    x = Bidirectional(LSTM(128, return_sequences=True,recurrent_dropout=0.2))(x)\n",
    "    x = Bidirectional(LSTM(128, return_sequences=True,recurrent_dropout=0.2))(x)\n",
    "    x = Bidirectional(LSTM(128, return_sequences=True,recurrent_dropout=0.2))(x)\n",
    "    x = Bidirectional(LSTM(128, return_sequences=True,recurrent_dropout=0.2))(x)\n",
    "    x = Bidirectional(LSTM(128, return_sequences=True,recurrent_dropout=0.2))(x)\n",
    "    x = Bidirectional(LSTM(128, return_sequences=True,recurrent_dropout=0.2))(x)\n",
    "\n",
    "    avg_pool = GlobalAveragePooling1D()(x)\n",
    "    max_pool = GlobalMaxPooling1D()(x)\n",
    "    x = concatenate([avg_pool, max_pool])\n",
    "\n",
    "    outp = Dense(3, activation=\"softmax\", name=\"final_output\")(x)\n",
    "    \n",
    "    model = Model(inputs=[inp1,inp2], outputs=outp)\n",
    "    model.compile(loss='categorical_crossentropy',\n",
    "                  optimizer=Adam(lr=0.001),\n",
    "                  metrics=['accuracy'],\n",
    "                 )\n",
    "\n",
    "    return model\n",
    "\n",
    "model = get_model()\n",
    "\n",
    "model.summary()"
   ]
  },
  {
   "cell_type": "code",
   "execution_count": 10,
   "metadata": {
    "_uuid": "1b559f44b69d0007c087ad9570875f1539bd03f4",
    "execution": {
     "iopub.execute_input": "2022-04-10T16:37:23.166540Z",
     "iopub.status.busy": "2022-04-10T16:37:23.166261Z",
     "iopub.status.idle": "2022-04-10T16:37:23.175608Z",
     "shell.execute_reply": "2022-04-10T16:37:23.173706Z",
     "shell.execute_reply.started": "2022-04-10T16:37:23.166493Z"
    },
    "id": "aQrxnh0UE_ki"
   },
   "outputs": [],
   "source": [
    "# Create callbacks before starting the training\n",
    "\n",
    "learning_rate_reduction = ReduceLROnPlateau(monitor='val_acc', \n",
    "                                            patience=1, \n",
    "                                            verbose=1, \n",
    "                                            factor=0.5,\n",
    "                                            min_lr=0.00001)\n",
    "file_path=\"checkpoint_SNLI_weights.hdf5\"\n",
    "checkpoint = ModelCheckpoint(file_path, monitor='val_acc', verbose=1, save_best_only=True, mode='max', save_weights_only=True)\n",
    "early = EarlyStopping(monitor=\"val_acc\", mode=\"max\", patience=1)\n",
    "\n",
    "model_callbacks = [checkpoint, early, learning_rate_reduction]"
   ]
  },
  {
   "cell_type": "markdown",
   "metadata": {
    "_uuid": "802795e82b131dae72743a4d34d3c400fad8866b",
    "id": "JNW89pHihAvo"
   },
   "source": [
    "# Train the Model"
   ]
  },
  {
   "cell_type": "code",
   "execution_count": 11,
   "metadata": {
    "_uuid": "433a5273f05cb215c4d772f39dfe379791472bb1",
    "execution": {
     "iopub.execute_input": "2022-04-10T16:37:23.177845Z",
     "iopub.status.busy": "2022-04-10T16:37:23.177547Z",
     "iopub.status.idle": "2022-04-10T19:38:46.853932Z",
     "shell.execute_reply": "2022-04-10T19:38:46.853242Z",
     "shell.execute_reply.started": "2022-04-10T16:37:23.177795Z"
    },
    "executionInfo": {
     "elapsed": 3309027,
     "status": "error",
     "timestamp": 1521405868380,
     "user": {
      "displayName": "Patrick DeKelly",
      "photoUrl": "https://lh3.googleusercontent.com/a/default-user=s128",
      "userId": "113168316542890578910"
     },
     "user_tz": 240
    },
    "id": "HrN8jG3hE_ks",
    "outputId": "df42c3bf-75b1-4b61-cda2-72f8822b198c"
   },
   "outputs": [
    {
     "name": "stdout",
     "output_type": "stream",
     "text": [
      "WARNING:tensorflow:From /opt/conda/lib/python3.6/site-packages/tensorflow/python/ops/math_ops.py:3066: to_int32 (from tensorflow.python.ops.math_ops) is deprecated and will be removed in a future version.\n",
      "Instructions for updating:\n",
      "Use tf.cast instead.\n"
     ]
    },
    {
     "name": "stderr",
     "output_type": "stream",
     "text": [
      "W0410 16:37:23.403832 140595205010816 deprecation.py:323] From /opt/conda/lib/python3.6/site-packages/tensorflow/python/ops/math_ops.py:3066: to_int32 (from tensorflow.python.ops.math_ops) is deprecated and will be removed in a future version.\n",
      "Instructions for updating:\n",
      "Use tf.cast instead.\n"
     ]
    },
    {
     "name": "stdout",
     "output_type": "stream",
     "text": [
      "WARNING:tensorflow:From /opt/conda/lib/python3.6/site-packages/tensorflow/python/ops/math_grad.py:102: div (from tensorflow.python.ops.math_ops) is deprecated and will be removed in a future version.\n",
      "Instructions for updating:\n",
      "Deprecated in favor of operator or tf.math.divide.\n"
     ]
    },
    {
     "name": "stderr",
     "output_type": "stream",
     "text": [
      "W0410 16:37:23.531294 140595205010816 deprecation.py:323] From /opt/conda/lib/python3.6/site-packages/tensorflow/python/ops/math_grad.py:102: div (from tensorflow.python.ops.math_ops) is deprecated and will be removed in a future version.\n",
      "Instructions for updating:\n",
      "Deprecated in favor of operator or tf.math.divide.\n"
     ]
    },
    {
     "name": "stdout",
     "output_type": "stream",
     "text": [
      "Train on 549361 samples, validate on 9842 samples\n",
      "Epoch 1/5\n",
      "549361/549361 [==============================] - 2193s 4ms/step - loss: 0.7656 - acc: 0.6608 - val_loss: 0.6640 - val_acc: 0.7164\n",
      "\n",
      "Epoch 00001: val_acc improved from -inf to 0.71642, saving model to checkpoint_SNLI_weights.hdf5\n",
      "Epoch 2/5\n",
      "549361/549361 [==============================] - 2169s 4ms/step - loss: 0.6530 - acc: 0.7248 - val_loss: 0.6245 - val_acc: 0.7394\n",
      "\n",
      "Epoch 00002: val_acc improved from 0.71642 to 0.73938, saving model to checkpoint_SNLI_weights.hdf5\n",
      "Epoch 3/5\n",
      "549361/549361 [==============================] - 2171s 4ms/step - loss: 0.6106 - acc: 0.7464 - val_loss: 0.6007 - val_acc: 0.7503\n",
      "\n",
      "Epoch 00003: val_acc improved from 0.73938 to 0.75025, saving model to checkpoint_SNLI_weights.hdf5\n",
      "Epoch 4/5\n",
      "549361/549361 [==============================] - 2171s 4ms/step - loss: 0.5784 - acc: 0.7618 - val_loss: 0.5927 - val_acc: 0.7585\n",
      "\n",
      "Epoch 00004: val_acc improved from 0.75025 to 0.75848, saving model to checkpoint_SNLI_weights.hdf5\n",
      "Epoch 5/5\n",
      "549361/549361 [==============================] - 2167s 4ms/step - loss: 0.5522 - acc: 0.7737 - val_loss: 0.5792 - val_acc: 0.7669\n",
      "\n",
      "Epoch 00005: val_acc improved from 0.75848 to 0.76692, saving model to checkpoint_SNLI_weights.hdf5\n",
      "CPU times: user 3h 16min 26s, sys: 13min 47s, total: 3h 30min 13s\n",
      "Wall time: 3h 1min 23s\n"
     ]
    },
    {
     "data": {
      "text/plain": [
       "<keras.callbacks.History at 0x7fde4e093da0>"
      ]
     },
     "execution_count": 11,
     "metadata": {},
     "output_type": "execute_result"
    }
   ],
   "source": [
    "%%time\n",
    " \n",
    "model.fit(X_train, Y_train,\n",
    "          batch_size=128,\n",
    "          epochs=5,\n",
    "          verbose=1,\n",
    "          validation_data=(X_valid, Y_valid),\n",
    "          callbacks = model_callbacks\n",
    "         )"
   ]
  },
  {
   "cell_type": "code",
   "execution_count": 12,
   "metadata": {
    "_uuid": "0ec1ce89173bbbab987a603c605167a4be7db569",
    "execution": {
     "iopub.execute_input": "2022-04-10T19:38:46.855423Z",
     "iopub.status.busy": "2022-04-10T19:38:46.855143Z",
     "iopub.status.idle": "2022-04-10T19:38:48.189772Z",
     "shell.execute_reply": "2022-04-10T19:38:48.189072Z",
     "shell.execute_reply.started": "2022-04-10T19:38:46.855376Z"
    }
   },
   "outputs": [],
   "source": [
    "#Save the model\n",
    "model.save_weights(\"SNLI_weights.hdf5\")\n",
    "model.save(\"SNLI_model.h5\")"
   ]
  },
  {
   "cell_type": "markdown",
   "metadata": {
    "_uuid": "2f5c1b889b9f24369fd16e65bb460295f8317eb8",
    "id": "M495lZOEhuN-"
   },
   "source": [
    "# Predictions from the Model and Performing Evaluation "
   ]
  },
  {
   "cell_type": "code",
   "execution_count": 13,
   "metadata": {
    "_uuid": "fd731ee75a28382f33f09654a2ce5b21129a4ef3",
    "execution": {
     "iopub.execute_input": "2022-04-10T19:38:48.191182Z",
     "iopub.status.busy": "2022-04-10T19:38:48.190934Z",
     "iopub.status.idle": "2022-04-10T19:39:24.670326Z",
     "shell.execute_reply": "2022-04-10T19:39:24.669450Z",
     "shell.execute_reply.started": "2022-04-10T19:38:48.191139Z"
    },
    "executionInfo": {
     "elapsed": 86054,
     "status": "ok",
     "timestamp": 1521405963125,
     "user": {
      "displayName": "Patrick DeKelly",
      "photoUrl": "https://lh3.googleusercontent.com/a/default-user=s128",
      "userId": "113168316542890578910"
     },
     "user_tz": 240
    },
    "id": "J_4wI-ZrE_lN",
    "outputId": "51365188-7c81-43c3-b1fc-f5fb01b607a6"
   },
   "outputs": [
    {
     "name": "stdout",
     "output_type": "stream",
     "text": [
      "CPU times: user 38.6 s, sys: 2.56 s, total: 41.2 s\n",
      "Wall time: 36.5 s\n"
     ]
    }
   ],
   "source": [
    "%%time\n",
    "test_pred = model.predict(X_test, batch_size=128)"
   ]
  },
  {
   "cell_type": "code",
   "execution_count": 14,
   "metadata": {
    "_uuid": "25f3231b8f6fce4b18c93697f207689400159889",
    "execution": {
     "iopub.execute_input": "2022-04-10T19:39:24.672424Z",
     "iopub.status.busy": "2022-04-10T19:39:24.672138Z",
     "iopub.status.idle": "2022-04-10T19:39:24.677667Z",
     "shell.execute_reply": "2022-04-10T19:39:24.676894Z",
     "shell.execute_reply.started": "2022-04-10T19:39:24.672377Z"
    }
   },
   "outputs": [
    {
     "name": "stdout",
     "output_type": "stream",
     "text": [
      "Accuracy on test set is: %75.68200325732899\n"
     ]
    }
   ],
   "source": [
    "test_acc = (np.argmax(test_pred, axis=1) == np.argmax(Y_test, axis=1)).sum()/Y_test.shape[0] * 100\n",
    "\n",
    "print(\"Accuracy on test set is: %\"+str(test_acc))"
   ]
  },
  {
   "cell_type": "code",
   "execution_count": null,
   "metadata": {},
   "outputs": [],
   "source": []
  },
  {
   "cell_type": "code",
   "execution_count": null,
   "metadata": {},
   "outputs": [],
   "source": []
  }
 ],
 "metadata": {
  "kernelspec": {
   "display_name": "Python 3 (ipykernel)",
   "language": "python",
   "name": "python3"
  },
  "language_info": {
   "codemirror_mode": {
    "name": "ipython",
    "version": 3
   },
   "file_extension": ".py",
   "mimetype": "text/x-python",
   "name": "python",
   "nbconvert_exporter": "python",
   "pygments_lexer": "ipython3",
   "version": "3.9.7"
  }
 },
 "nbformat": 4,
 "nbformat_minor": 4
}
